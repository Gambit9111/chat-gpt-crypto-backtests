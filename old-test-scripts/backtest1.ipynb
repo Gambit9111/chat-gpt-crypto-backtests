{
 "cells": [
  {
   "cell_type": "code",
   "execution_count": 1,
   "metadata": {},
   "outputs": [],
   "source": [
    "import pandas as pd\n",
    "from binance.spot import Spot\n",
    "from ta.utils import dropna"
   ]
  },
  {
   "cell_type": "code",
   "execution_count": 2,
   "metadata": {},
   "outputs": [],
   "source": [
    "binance_client = Spot()\n",
    "symbol = \"SOLUSDT\"\n",
    "interval = '15m'\n",
    "limit = '1000'"
   ]
  },
  {
   "cell_type": "code",
   "execution_count": 3,
   "metadata": {},
   "outputs": [],
   "source": [
    "def get_data(binance_client: Spot, symbol: str, interval: str, limit: int) -> pd.DataFrame:\n",
    "    df = pd.DataFrame(binance_client.klines(symbol=symbol, interval=interval, limit=limit))\n",
    "    df = df.iloc[:, :9]\n",
    "    df.columns = ['Time', 'Open', 'High', 'Low', 'Close', 'Volume', 'Close_time', 'Quote_av', 'Trades']\n",
    "\n",
    "    # drop unnecessary columns\n",
    "    df = df.drop(['Close_time', 'Quote_av', 'Trades'], axis=1)\n",
    "\n",
    "    # convert to datetime\n",
    "    df['Time'] = pd.to_datetime(df['Time'], unit='ms')\n",
    "\n",
    "    # set index\n",
    "    df = df.set_index('Time')\n",
    "    # convert to float\n",
    "    df = df.astype(float)\n",
    "\n",
    "    return df"
   ]
  },
  {
   "cell_type": "code",
   "execution_count": 4,
   "metadata": {},
   "outputs": [],
   "source": [
    "# df = get_data(binance_client, symbol, interval, limit)\n",
    "# df"
   ]
  },
  {
   "cell_type": "code",
   "execution_count": 5,
   "metadata": {},
   "outputs": [
    {
     "data": {
      "text/html": [
       "<div>\n",
       "<style scoped>\n",
       "    .dataframe tbody tr th:only-of-type {\n",
       "        vertical-align: middle;\n",
       "    }\n",
       "\n",
       "    .dataframe tbody tr th {\n",
       "        vertical-align: top;\n",
       "    }\n",
       "\n",
       "    .dataframe thead th {\n",
       "        text-align: right;\n",
       "    }\n",
       "</style>\n",
       "<table border=\"1\" class=\"dataframe\">\n",
       "  <thead>\n",
       "    <tr style=\"text-align: right;\">\n",
       "      <th></th>\n",
       "      <th>Open</th>\n",
       "      <th>High</th>\n",
       "      <th>Low</th>\n",
       "      <th>Close</th>\n",
       "      <th>Volume</th>\n",
       "    </tr>\n",
       "    <tr>\n",
       "      <th>Time</th>\n",
       "      <th></th>\n",
       "      <th></th>\n",
       "      <th></th>\n",
       "      <th></th>\n",
       "      <th></th>\n",
       "    </tr>\n",
       "  </thead>\n",
       "  <tbody>\n",
       "    <tr>\n",
       "      <th>2021-03-18 16:00:00</th>\n",
       "      <td>1.6551</td>\n",
       "      <td>1.8500</td>\n",
       "      <td>1.4650</td>\n",
       "      <td>1.8490</td>\n",
       "      <td>13671421.86</td>\n",
       "    </tr>\n",
       "    <tr>\n",
       "      <th>2021-03-18 16:15:00</th>\n",
       "      <td>1.8498</td>\n",
       "      <td>1.8800</td>\n",
       "      <td>1.3600</td>\n",
       "      <td>1.4025</td>\n",
       "      <td>26576990.27</td>\n",
       "    </tr>\n",
       "    <tr>\n",
       "      <th>2021-03-18 16:30:00</th>\n",
       "      <td>1.4024</td>\n",
       "      <td>1.4500</td>\n",
       "      <td>1.3400</td>\n",
       "      <td>1.3500</td>\n",
       "      <td>11549407.35</td>\n",
       "    </tr>\n",
       "    <tr>\n",
       "      <th>2021-03-18 16:45:00</th>\n",
       "      <td>1.3489</td>\n",
       "      <td>1.3800</td>\n",
       "      <td>1.3454</td>\n",
       "      <td>1.3559</td>\n",
       "      <td>7405071.24</td>\n",
       "    </tr>\n",
       "    <tr>\n",
       "      <th>2021-03-18 17:00:00</th>\n",
       "      <td>1.3559</td>\n",
       "      <td>1.3841</td>\n",
       "      <td>1.3500</td>\n",
       "      <td>1.3799</td>\n",
       "      <td>4752933.63</td>\n",
       "    </tr>\n",
       "    <tr>\n",
       "      <th>...</th>\n",
       "      <td>...</td>\n",
       "      <td>...</td>\n",
       "      <td>...</td>\n",
       "      <td>...</td>\n",
       "      <td>...</td>\n",
       "    </tr>\n",
       "    <tr>\n",
       "      <th>2023-12-17 21:15:00</th>\n",
       "      <td>0.5940</td>\n",
       "      <td>0.5947</td>\n",
       "      <td>0.5904</td>\n",
       "      <td>0.5908</td>\n",
       "      <td>309338.73</td>\n",
       "    </tr>\n",
       "    <tr>\n",
       "      <th>2023-12-17 21:30:00</th>\n",
       "      <td>0.5907</td>\n",
       "      <td>0.5919</td>\n",
       "      <td>0.5889</td>\n",
       "      <td>0.5893</td>\n",
       "      <td>249179.77</td>\n",
       "    </tr>\n",
       "    <tr>\n",
       "      <th>2023-12-17 21:45:00</th>\n",
       "      <td>0.5893</td>\n",
       "      <td>0.5897</td>\n",
       "      <td>0.5873</td>\n",
       "      <td>0.5887</td>\n",
       "      <td>362002.77</td>\n",
       "    </tr>\n",
       "    <tr>\n",
       "      <th>2023-12-17 22:00:00</th>\n",
       "      <td>0.5887</td>\n",
       "      <td>0.5887</td>\n",
       "      <td>0.5865</td>\n",
       "      <td>0.5878</td>\n",
       "      <td>346383.20</td>\n",
       "    </tr>\n",
       "    <tr>\n",
       "      <th>2023-12-17 22:15:00</th>\n",
       "      <td>0.5877</td>\n",
       "      <td>0.5878</td>\n",
       "      <td>0.5873</td>\n",
       "      <td>0.5877</td>\n",
       "      <td>27414.19</td>\n",
       "    </tr>\n",
       "  </tbody>\n",
       "</table>\n",
       "<p>96382 rows × 5 columns</p>\n",
       "</div>"
      ],
      "text/plain": [
       "                       Open    High     Low   Close       Volume\n",
       "Time                                                            \n",
       "2021-03-18 16:00:00  1.6551  1.8500  1.4650  1.8490  13671421.86\n",
       "2021-03-18 16:15:00  1.8498  1.8800  1.3600  1.4025  26576990.27\n",
       "2021-03-18 16:30:00  1.4024  1.4500  1.3400  1.3500  11549407.35\n",
       "2021-03-18 16:45:00  1.3489  1.3800  1.3454  1.3559   7405071.24\n",
       "2021-03-18 17:00:00  1.3559  1.3841  1.3500  1.3799   4752933.63\n",
       "...                     ...     ...     ...     ...          ...\n",
       "2023-12-17 21:15:00  0.5940  0.5947  0.5904  0.5908    309338.73\n",
       "2023-12-17 21:30:00  0.5907  0.5919  0.5889  0.5893    249179.77\n",
       "2023-12-17 21:45:00  0.5893  0.5897  0.5873  0.5887    362002.77\n",
       "2023-12-17 22:00:00  0.5887  0.5887  0.5865  0.5878    346383.20\n",
       "2023-12-17 22:15:00  0.5877  0.5878  0.5873  0.5877     27414.19\n",
       "\n",
       "[96382 rows x 5 columns]"
      ]
     },
     "execution_count": 5,
     "metadata": {},
     "output_type": "execute_result"
    }
   ],
   "source": [
    "df = pd.read_csv('historical-data/15min/ADA-USD-15m-2021.csv', sep=',')\n",
    "df = df.drop('Unnamed: 6', axis=1) # Drop the 'Unnamed: 6' column\n",
    "df = dropna(df)\n",
    "df['Time'] = pd.to_datetime(df['Time']) # Convert the 'Datetime' column to datetime format\n",
    "df = df.set_index('Time') # Set the 'Datetime' column as the index\n",
    "df"
   ]
  },
  {
   "cell_type": "code",
   "execution_count": 6,
   "metadata": {},
   "outputs": [],
   "source": [
    "def SMA(values, n):\n",
    "    \"\"\"\n",
    "    Return simple moving average of `values`, at\n",
    "    each step taking into account `n` previous values.\n",
    "    \"\"\"\n",
    "    return pd.Series(values).rolling(n).mean()"
   ]
  },
  {
   "cell_type": "code",
   "execution_count": 7,
   "metadata": {},
   "outputs": [],
   "source": [
    "from backtesting import Strategy\n",
    "from backtesting.lib import crossover\n",
    "\n",
    "\n",
    "class SmaCross(Strategy):\n",
    "    # Define the two MA lags as *class variables*\n",
    "    # for later optimization\n",
    "    n1 = 10\n",
    "    n2 = 20\n",
    "    \n",
    "    def init(self):\n",
    "        # Precompute the two moving averages\n",
    "        self.sma1 = self.I(SMA, self.data.Close, self.n1)\n",
    "        self.sma2 = self.I(SMA, self.data.Close, self.n2)\n",
    "    \n",
    "    def next(self):\n",
    "        # If sma1 crosses above sma2, close any existing\n",
    "        # short trades, and buy the asset\n",
    "        if crossover(self.sma1, self.sma2):\n",
    "            self.position.close()\n",
    "            self.buy()\n",
    "\n",
    "        # Else, if sma1 crosses below sma2, close any existing\n",
    "        # long trades, and sell the asset\n",
    "        elif crossover(self.sma2, self.sma1):\n",
    "            self.position.close()\n",
    "            self.sell()"
   ]
  },
  {
   "cell_type": "code",
   "execution_count": 8,
   "metadata": {},
   "outputs": [],
   "source": [
    "from backtesting import Backtest\n",
    "\n",
    "bt = Backtest(df, SmaCross, cash=10_000, commission=.002)\n"
   ]
  },
  {
   "cell_type": "code",
   "execution_count": 9,
   "metadata": {},
   "outputs": [
    {
     "name": "stderr",
     "output_type": "stream",
     "text": [
      "/home/a/Desktop/algo-trading/v11-learning-backtestingpy/venv/lib/python3.10/site-packages/backtesting/backtesting.py:1488: UserWarning: Searching for best of 551 configurations.\n",
      "  output = _optimize_grid()\n"
     ]
    },
    {
     "data": {
      "text/plain": [
       "Start                     2021-03-18 16:00:00\n",
       "End                       2023-12-17 22:15:00\n",
       "Duration                   1004 days 06:15:00\n",
       "Exposure Time [%]                   99.895209\n",
       "Equity Final [$]                  5941.063025\n",
       "Equity Peak [$]                  18207.021353\n",
       "Return [%]                          -40.58937\n",
       "Buy & Hold Return [%]              -68.215251\n",
       "Return (Ann.) [%]                  -17.230361\n",
       "Volatility (Ann.) [%]               86.014444\n",
       "Sharpe Ratio                              0.0\n",
       "Sortino Ratio                             0.0\n",
       "Calmar Ratio                              0.0\n",
       "Max. Drawdown [%]                  -73.628944\n",
       "Avg. Drawdown [%]                   -11.90468\n",
       "Max. Drawdown Duration      935 days 09:45:00\n",
       "Avg. Drawdown Duration       45 days 14:15:00\n",
       "# Trades                                 1134\n",
       "Win Rate [%]                        34.479718\n",
       "Best Trade [%]                      30.866585\n",
       "Worst Trade [%]                    -11.199197\n",
       "Avg. Trade [%]                      -0.045912\n",
       "Max. Trade Duration           4 days 13:30:00\n",
       "Avg. Trade Duration           0 days 21:14:00\n",
       "Profit Factor                        1.024675\n",
       "Expectancy [%]                        0.03171\n",
       "SQN                                  -0.38499\n",
       "_strategy                 SmaCross(n1=30,n...\n",
       "_equity_curve                             ...\n",
       "_trades                          Size  Ent...\n",
       "dtype: object"
      ]
     },
     "execution_count": 9,
     "metadata": {},
     "output_type": "execute_result"
    }
   ],
   "source": [
    "stats = bt.optimize(n1=range(5, 100, 5),\n",
    "                    n2=range(10, 200, 5),\n",
    "                    maximize='Equity Final [$]',\n",
    "                    constraint=lambda param: param.n1 < param.n2)\n",
    "stats"
   ]
  },
  {
   "cell_type": "code",
   "execution_count": 10,
   "metadata": {},
   "outputs": [
    {
     "data": {
      "text/plain": [
       "<Strategy SmaCross(n1=30,n2=100)>"
      ]
     },
     "execution_count": 10,
     "metadata": {},
     "output_type": "execute_result"
    }
   ],
   "source": [
    "stats._strategy"
   ]
  },
  {
   "cell_type": "code",
   "execution_count": 11,
   "metadata": {},
   "outputs": [
    {
     "name": "stderr",
     "output_type": "stream",
     "text": [
      "/home/a/Desktop/algo-trading/v11-learning-backtestingpy/venv/lib/python3.10/site-packages/backtesting/_plotting.py:122: UserWarning: Data contains too many candlesticks to plot; downsampling to '4H'. See `Backtest.plot(resample=...)`\n",
      "  warnings.warn(f\"Data contains too many candlesticks to plot; downsampling to {freq!r}. \"\n"
     ]
    },
    {
     "ename": "TypeError",
     "evalue": "Index.get_loc() got an unexpected keyword argument 'method'",
     "output_type": "error",
     "traceback": [
      "\u001b[0;31m---------------------------------------------------------------------------\u001b[0m",
      "\u001b[0;31mTypeError\u001b[0m                                 Traceback (most recent call last)",
      "\u001b[1;32m/home/a/Desktop/algo-trading/v11-learning-backtestingpy/backtest1.ipynb Cell 11\u001b[0m line \u001b[0;36m1\n\u001b[0;32m----> <a href='vscode-notebook-cell:/home/a/Desktop/algo-trading/v11-learning-backtestingpy/backtest1.ipynb#X13sZmlsZQ%3D%3D?line=0'>1</a>\u001b[0m bt\u001b[39m.\u001b[39;49mplot(plot_volume\u001b[39m=\u001b[39;49m\u001b[39mFalse\u001b[39;49;00m, plot_pl\u001b[39m=\u001b[39;49m\u001b[39mFalse\u001b[39;49;00m)\n",
      "File \u001b[0;32m~/Desktop/algo-trading/v11-learning-backtestingpy/venv/lib/python3.10/site-packages/backtesting/backtesting.py:1592\u001b[0m, in \u001b[0;36mBacktest.plot\u001b[0;34m(self, results, filename, plot_width, plot_equity, plot_return, plot_pl, plot_volume, plot_drawdown, smooth_equity, relative_equity, superimpose, resample, reverse_indicators, show_legend, open_browser)\u001b[0m\n\u001b[1;32m   1589\u001b[0m         \u001b[39mraise\u001b[39;00m \u001b[39mRuntimeError\u001b[39;00m(\u001b[39m'\u001b[39m\u001b[39mFirst issue `backtest.run()` to obtain results.\u001b[39m\u001b[39m'\u001b[39m)\n\u001b[1;32m   1590\u001b[0m     results \u001b[39m=\u001b[39m \u001b[39mself\u001b[39m\u001b[39m.\u001b[39m_results\n\u001b[0;32m-> 1592\u001b[0m \u001b[39mreturn\u001b[39;00m plot(\n\u001b[1;32m   1593\u001b[0m     results\u001b[39m=\u001b[39;49mresults,\n\u001b[1;32m   1594\u001b[0m     df\u001b[39m=\u001b[39;49m\u001b[39mself\u001b[39;49m\u001b[39m.\u001b[39;49m_data,\n\u001b[1;32m   1595\u001b[0m     indicators\u001b[39m=\u001b[39;49mresults\u001b[39m.\u001b[39;49m_strategy\u001b[39m.\u001b[39;49m_indicators,\n\u001b[1;32m   1596\u001b[0m     filename\u001b[39m=\u001b[39;49mfilename,\n\u001b[1;32m   1597\u001b[0m     plot_width\u001b[39m=\u001b[39;49mplot_width,\n\u001b[1;32m   1598\u001b[0m     plot_equity\u001b[39m=\u001b[39;49mplot_equity,\n\u001b[1;32m   1599\u001b[0m     plot_return\u001b[39m=\u001b[39;49mplot_return,\n\u001b[1;32m   1600\u001b[0m     plot_pl\u001b[39m=\u001b[39;49mplot_pl,\n\u001b[1;32m   1601\u001b[0m     plot_volume\u001b[39m=\u001b[39;49mplot_volume,\n\u001b[1;32m   1602\u001b[0m     plot_drawdown\u001b[39m=\u001b[39;49mplot_drawdown,\n\u001b[1;32m   1603\u001b[0m     smooth_equity\u001b[39m=\u001b[39;49msmooth_equity,\n\u001b[1;32m   1604\u001b[0m     relative_equity\u001b[39m=\u001b[39;49mrelative_equity,\n\u001b[1;32m   1605\u001b[0m     superimpose\u001b[39m=\u001b[39;49msuperimpose,\n\u001b[1;32m   1606\u001b[0m     resample\u001b[39m=\u001b[39;49mresample,\n\u001b[1;32m   1607\u001b[0m     reverse_indicators\u001b[39m=\u001b[39;49mreverse_indicators,\n\u001b[1;32m   1608\u001b[0m     show_legend\u001b[39m=\u001b[39;49mshow_legend,\n\u001b[1;32m   1609\u001b[0m     open_browser\u001b[39m=\u001b[39;49mopen_browser)\n",
      "File \u001b[0;32m~/Desktop/algo-trading/v11-learning-backtestingpy/venv/lib/python3.10/site-packages/backtesting/_plotting.py:203\u001b[0m, in \u001b[0;36mplot\u001b[0;34m(results, df, indicators, filename, plot_width, plot_equity, plot_return, plot_pl, plot_volume, plot_drawdown, smooth_equity, relative_equity, superimpose, resample, reverse_indicators, show_legend, open_browser)\u001b[0m\n\u001b[1;32m    201\u001b[0m \u001b[39m# Limit data to max_candles\u001b[39;00m\n\u001b[1;32m    202\u001b[0m \u001b[39mif\u001b[39;00m is_datetime_index:\n\u001b[0;32m--> 203\u001b[0m     df, indicators, equity_data, trades \u001b[39m=\u001b[39m _maybe_resample_data(\n\u001b[1;32m    204\u001b[0m         resample, df, indicators, equity_data, trades)\n\u001b[1;32m    206\u001b[0m df\u001b[39m.\u001b[39mindex\u001b[39m.\u001b[39mname \u001b[39m=\u001b[39m \u001b[39mNone\u001b[39;00m  \u001b[39m# Provides source name @index\u001b[39;00m\n\u001b[1;32m    207\u001b[0m df[\u001b[39m'\u001b[39m\u001b[39mdatetime\u001b[39m\u001b[39m'\u001b[39m] \u001b[39m=\u001b[39m df\u001b[39m.\u001b[39mindex  \u001b[39m# Save original, maybe datetime index\u001b[39;00m\n",
      "File \u001b[0;32m~/Desktop/algo-trading/v11-learning-backtestingpy/venv/lib/python3.10/site-packages/backtesting/_plotting.py:153\u001b[0m, in \u001b[0;36m_maybe_resample_data\u001b[0;34m(resample_rule, df, indicators, equity_data, trades)\u001b[0m\n\u001b[1;32m    150\u001b[0m     \u001b[39mreturn\u001b[39;00m f\n\u001b[1;32m    152\u001b[0m \u001b[39mif\u001b[39;00m \u001b[39mlen\u001b[39m(trades):  \u001b[39m# Avoid pandas \"resampling on Int64 index\" error\u001b[39;00m\n\u001b[0;32m--> 153\u001b[0m     trades \u001b[39m=\u001b[39m trades\u001b[39m.\u001b[39;49massign(count\u001b[39m=\u001b[39;49m\u001b[39m1\u001b[39;49m)\u001b[39m.\u001b[39;49mresample(freq, on\u001b[39m=\u001b[39;49m\u001b[39m'\u001b[39;49m\u001b[39mExitTime\u001b[39;49m\u001b[39m'\u001b[39;49m, label\u001b[39m=\u001b[39;49m\u001b[39m'\u001b[39;49m\u001b[39mright\u001b[39;49m\u001b[39m'\u001b[39;49m)\u001b[39m.\u001b[39;49magg(\u001b[39mdict\u001b[39;49m(\n\u001b[1;32m    154\u001b[0m         TRADES_AGG,\n\u001b[1;32m    155\u001b[0m         ReturnPct\u001b[39m=\u001b[39;49m_weighted_returns,\n\u001b[1;32m    156\u001b[0m         count\u001b[39m=\u001b[39;49m\u001b[39m'\u001b[39;49m\u001b[39msum\u001b[39;49m\u001b[39m'\u001b[39;49m,\n\u001b[1;32m    157\u001b[0m         EntryBar\u001b[39m=\u001b[39;49m_group_trades(\u001b[39m'\u001b[39;49m\u001b[39mEntryTime\u001b[39;49m\u001b[39m'\u001b[39;49m),\n\u001b[1;32m    158\u001b[0m         ExitBar\u001b[39m=\u001b[39;49m_group_trades(\u001b[39m'\u001b[39;49m\u001b[39mExitTime\u001b[39;49m\u001b[39m'\u001b[39;49m),\n\u001b[1;32m    159\u001b[0m     ))\u001b[39m.\u001b[39mdropna()\n\u001b[1;32m    161\u001b[0m \u001b[39mreturn\u001b[39;00m df, indicators, equity_data, trades\n",
      "File \u001b[0;32m~/Desktop/algo-trading/v11-learning-backtestingpy/venv/lib/python3.10/site-packages/pandas/core/resample.py:338\u001b[0m, in \u001b[0;36mResampler.aggregate\u001b[0;34m(self, func, *args, **kwargs)\u001b[0m\n\u001b[1;32m    330\u001b[0m \u001b[39m@doc\u001b[39m(\n\u001b[1;32m    331\u001b[0m     _shared_docs[\u001b[39m\"\u001b[39m\u001b[39maggregate\u001b[39m\u001b[39m\"\u001b[39m],\n\u001b[1;32m    332\u001b[0m     see_also\u001b[39m=\u001b[39m_agg_see_also_doc,\n\u001b[0;32m   (...)\u001b[0m\n\u001b[1;32m    336\u001b[0m )\n\u001b[1;32m    337\u001b[0m \u001b[39mdef\u001b[39;00m \u001b[39maggregate\u001b[39m(\u001b[39mself\u001b[39m, func\u001b[39m=\u001b[39m\u001b[39mNone\u001b[39;00m, \u001b[39m*\u001b[39margs, \u001b[39m*\u001b[39m\u001b[39m*\u001b[39mkwargs):\n\u001b[0;32m--> 338\u001b[0m     result \u001b[39m=\u001b[39m ResamplerWindowApply(\u001b[39mself\u001b[39;49m, func, args\u001b[39m=\u001b[39;49margs, kwargs\u001b[39m=\u001b[39;49mkwargs)\u001b[39m.\u001b[39;49magg()\n\u001b[1;32m    339\u001b[0m     \u001b[39mif\u001b[39;00m result \u001b[39mis\u001b[39;00m \u001b[39mNone\u001b[39;00m:\n\u001b[1;32m    340\u001b[0m         how \u001b[39m=\u001b[39m func\n",
      "File \u001b[0;32m~/Desktop/algo-trading/v11-learning-backtestingpy/venv/lib/python3.10/site-packages/pandas/core/apply.py:175\u001b[0m, in \u001b[0;36mApply.agg\u001b[0;34m(self)\u001b[0m\n\u001b[1;32m    172\u001b[0m     \u001b[39mreturn\u001b[39;00m \u001b[39mself\u001b[39m\u001b[39m.\u001b[39mapply_str()\n\u001b[1;32m    174\u001b[0m \u001b[39mif\u001b[39;00m is_dict_like(func):\n\u001b[0;32m--> 175\u001b[0m     \u001b[39mreturn\u001b[39;00m \u001b[39mself\u001b[39;49m\u001b[39m.\u001b[39;49magg_dict_like()\n\u001b[1;32m    176\u001b[0m \u001b[39melif\u001b[39;00m is_list_like(func):\n\u001b[1;32m    177\u001b[0m     \u001b[39m# we require a list, but not a 'str'\u001b[39;00m\n\u001b[1;32m    178\u001b[0m     \u001b[39mreturn\u001b[39;00m \u001b[39mself\u001b[39m\u001b[39m.\u001b[39magg_list_like()\n",
      "File \u001b[0;32m~/Desktop/algo-trading/v11-learning-backtestingpy/venv/lib/python3.10/site-packages/pandas/core/apply.py:406\u001b[0m, in \u001b[0;36mApply.agg_dict_like\u001b[0;34m(self)\u001b[0m\n\u001b[1;32m    398\u001b[0m \u001b[39mdef\u001b[39;00m \u001b[39magg_dict_like\u001b[39m(\u001b[39mself\u001b[39m) \u001b[39m-\u001b[39m\u001b[39m>\u001b[39m DataFrame \u001b[39m|\u001b[39m Series:\n\u001b[1;32m    399\u001b[0m \u001b[39m    \u001b[39m\u001b[39m\"\"\"\u001b[39;00m\n\u001b[1;32m    400\u001b[0m \u001b[39m    Compute aggregation in the case of a dict-like argument.\u001b[39;00m\n\u001b[1;32m    401\u001b[0m \n\u001b[0;32m   (...)\u001b[0m\n\u001b[1;32m    404\u001b[0m \u001b[39m    Result of aggregation.\u001b[39;00m\n\u001b[1;32m    405\u001b[0m \u001b[39m    \"\"\"\u001b[39;00m\n\u001b[0;32m--> 406\u001b[0m     \u001b[39mreturn\u001b[39;00m \u001b[39mself\u001b[39;49m\u001b[39m.\u001b[39;49magg_or_apply_dict_like(op_name\u001b[39m=\u001b[39;49m\u001b[39m\"\u001b[39;49m\u001b[39magg\u001b[39;49m\u001b[39m\"\u001b[39;49m)\n",
      "File \u001b[0;32m~/Desktop/algo-trading/v11-learning-backtestingpy/venv/lib/python3.10/site-packages/pandas/core/apply.py:1390\u001b[0m, in \u001b[0;36mGroupByApply.agg_or_apply_dict_like\u001b[0;34m(self, op_name)\u001b[0m\n\u001b[1;32m   1385\u001b[0m     kwargs\u001b[39m.\u001b[39mupdate({\u001b[39m\"\u001b[39m\u001b[39mengine\u001b[39m\u001b[39m\"\u001b[39m: engine, \u001b[39m\"\u001b[39m\u001b[39mengine_kwargs\u001b[39m\u001b[39m\"\u001b[39m: engine_kwargs})\n\u001b[1;32m   1387\u001b[0m \u001b[39mwith\u001b[39;00m com\u001b[39m.\u001b[39mtemp_setattr(\n\u001b[1;32m   1388\u001b[0m     obj, \u001b[39m\"\u001b[39m\u001b[39mas_index\u001b[39m\u001b[39m\"\u001b[39m, \u001b[39mTrue\u001b[39;00m, condition\u001b[39m=\u001b[39m\u001b[39mhasattr\u001b[39m(obj, \u001b[39m\"\u001b[39m\u001b[39mas_index\u001b[39m\u001b[39m\"\u001b[39m)\n\u001b[1;32m   1389\u001b[0m ):\n\u001b[0;32m-> 1390\u001b[0m     result_index, result_data \u001b[39m=\u001b[39m \u001b[39mself\u001b[39;49m\u001b[39m.\u001b[39;49mcompute_dict_like(\n\u001b[1;32m   1391\u001b[0m         op_name, selected_obj, selection, kwargs\n\u001b[1;32m   1392\u001b[0m     )\n\u001b[1;32m   1393\u001b[0m result \u001b[39m=\u001b[39m \u001b[39mself\u001b[39m\u001b[39m.\u001b[39mwrap_results_dict_like(selected_obj, result_index, result_data)\n\u001b[1;32m   1394\u001b[0m \u001b[39mreturn\u001b[39;00m result\n",
      "File \u001b[0;32m~/Desktop/algo-trading/v11-learning-backtestingpy/venv/lib/python3.10/site-packages/pandas/core/apply.py:479\u001b[0m, in \u001b[0;36mApply.compute_dict_like\u001b[0;34m(self, op_name, selected_obj, selection, kwargs)\u001b[0m\n\u001b[1;32m    476\u001b[0m         results \u001b[39m+\u001b[39m\u001b[39m=\u001b[39m key_data\n\u001b[1;32m    477\u001b[0m \u001b[39melse\u001b[39;00m:\n\u001b[1;32m    478\u001b[0m     \u001b[39m# key used for column selection and output\u001b[39;00m\n\u001b[0;32m--> 479\u001b[0m     results \u001b[39m=\u001b[39m [\n\u001b[1;32m    480\u001b[0m         \u001b[39mgetattr\u001b[39m(obj\u001b[39m.\u001b[39m_gotitem(key, ndim\u001b[39m=\u001b[39m\u001b[39m1\u001b[39m), op_name)(how, \u001b[39m*\u001b[39m\u001b[39m*\u001b[39mkwargs)\n\u001b[1;32m    481\u001b[0m         \u001b[39mfor\u001b[39;00m key, how \u001b[39min\u001b[39;00m func\u001b[39m.\u001b[39mitems()\n\u001b[1;32m    482\u001b[0m     ]\n\u001b[1;32m    483\u001b[0m     keys \u001b[39m=\u001b[39m \u001b[39mlist\u001b[39m(func\u001b[39m.\u001b[39mkeys())\n\u001b[1;32m    485\u001b[0m \u001b[39mreturn\u001b[39;00m keys, results\n",
      "File \u001b[0;32m~/Desktop/algo-trading/v11-learning-backtestingpy/venv/lib/python3.10/site-packages/pandas/core/apply.py:480\u001b[0m, in \u001b[0;36m<listcomp>\u001b[0;34m(.0)\u001b[0m\n\u001b[1;32m    476\u001b[0m         results \u001b[39m+\u001b[39m\u001b[39m=\u001b[39m key_data\n\u001b[1;32m    477\u001b[0m \u001b[39melse\u001b[39;00m:\n\u001b[1;32m    478\u001b[0m     \u001b[39m# key used for column selection and output\u001b[39;00m\n\u001b[1;32m    479\u001b[0m     results \u001b[39m=\u001b[39m [\n\u001b[0;32m--> 480\u001b[0m         \u001b[39mgetattr\u001b[39;49m(obj\u001b[39m.\u001b[39;49m_gotitem(key, ndim\u001b[39m=\u001b[39;49m\u001b[39m1\u001b[39;49m), op_name)(how, \u001b[39m*\u001b[39;49m\u001b[39m*\u001b[39;49mkwargs)\n\u001b[1;32m    481\u001b[0m         \u001b[39mfor\u001b[39;00m key, how \u001b[39min\u001b[39;00m func\u001b[39m.\u001b[39mitems()\n\u001b[1;32m    482\u001b[0m     ]\n\u001b[1;32m    483\u001b[0m     keys \u001b[39m=\u001b[39m \u001b[39mlist\u001b[39m(func\u001b[39m.\u001b[39mkeys())\n\u001b[1;32m    485\u001b[0m \u001b[39mreturn\u001b[39;00m keys, results\n",
      "File \u001b[0;32m~/Desktop/algo-trading/v11-learning-backtestingpy/venv/lib/python3.10/site-packages/pandas/core/groupby/generic.py:292\u001b[0m, in \u001b[0;36mSeriesGroupBy.aggregate\u001b[0;34m(self, func, engine, engine_kwargs, *args, **kwargs)\u001b[0m\n\u001b[1;32m    289\u001b[0m     \u001b[39mreturn\u001b[39;00m \u001b[39mself\u001b[39m\u001b[39m.\u001b[39m_python_agg_general(func, \u001b[39m*\u001b[39margs, \u001b[39m*\u001b[39m\u001b[39m*\u001b[39mkwargs)\n\u001b[1;32m    291\u001b[0m \u001b[39mtry\u001b[39;00m:\n\u001b[0;32m--> 292\u001b[0m     \u001b[39mreturn\u001b[39;00m \u001b[39mself\u001b[39;49m\u001b[39m.\u001b[39;49m_python_agg_general(func, \u001b[39m*\u001b[39;49margs, \u001b[39m*\u001b[39;49m\u001b[39m*\u001b[39;49mkwargs)\n\u001b[1;32m    293\u001b[0m \u001b[39mexcept\u001b[39;00m \u001b[39mKeyError\u001b[39;00m:\n\u001b[1;32m    294\u001b[0m     \u001b[39m# KeyError raised in test_groupby.test_basic is bc the func does\u001b[39;00m\n\u001b[1;32m    295\u001b[0m     \u001b[39m#  a dictionary lookup on group.name, but group name is not\u001b[39;00m\n\u001b[1;32m    296\u001b[0m     \u001b[39m#  pinned in _python_agg_general, only in _aggregate_named\u001b[39;00m\n\u001b[1;32m    297\u001b[0m     result \u001b[39m=\u001b[39m \u001b[39mself\u001b[39m\u001b[39m.\u001b[39m_aggregate_named(func, \u001b[39m*\u001b[39margs, \u001b[39m*\u001b[39m\u001b[39m*\u001b[39mkwargs)\n",
      "File \u001b[0;32m~/Desktop/algo-trading/v11-learning-backtestingpy/venv/lib/python3.10/site-packages/pandas/core/groupby/generic.py:325\u001b[0m, in \u001b[0;36mSeriesGroupBy._python_agg_general\u001b[0;34m(self, func, *args, **kwargs)\u001b[0m\n\u001b[1;32m    322\u001b[0m f \u001b[39m=\u001b[39m \u001b[39mlambda\u001b[39;00m x: func(x, \u001b[39m*\u001b[39margs, \u001b[39m*\u001b[39m\u001b[39m*\u001b[39mkwargs)\n\u001b[1;32m    324\u001b[0m obj \u001b[39m=\u001b[39m \u001b[39mself\u001b[39m\u001b[39m.\u001b[39m_obj_with_exclusions\n\u001b[0;32m--> 325\u001b[0m result \u001b[39m=\u001b[39m \u001b[39mself\u001b[39;49m\u001b[39m.\u001b[39;49mgrouper\u001b[39m.\u001b[39;49magg_series(obj, f)\n\u001b[1;32m    326\u001b[0m res \u001b[39m=\u001b[39m obj\u001b[39m.\u001b[39m_constructor(result, name\u001b[39m=\u001b[39mobj\u001b[39m.\u001b[39mname)\n\u001b[1;32m    327\u001b[0m \u001b[39mreturn\u001b[39;00m \u001b[39mself\u001b[39m\u001b[39m.\u001b[39m_wrap_aggregated_output(res)\n",
      "File \u001b[0;32m~/Desktop/algo-trading/v11-learning-backtestingpy/venv/lib/python3.10/site-packages/pandas/core/groupby/ops.py:849\u001b[0m, in \u001b[0;36mBaseGrouper.agg_series\u001b[0;34m(self, obj, func, preserve_dtype)\u001b[0m\n\u001b[1;32m    842\u001b[0m \u001b[39mif\u001b[39;00m \u001b[39mnot\u001b[39;00m \u001b[39misinstance\u001b[39m(obj\u001b[39m.\u001b[39m_values, np\u001b[39m.\u001b[39mndarray):\n\u001b[1;32m    843\u001b[0m     \u001b[39m# we can preserve a little bit more aggressively with EA dtype\u001b[39;00m\n\u001b[1;32m    844\u001b[0m     \u001b[39m#  because maybe_cast_pointwise_result will do a try/except\u001b[39;00m\n\u001b[1;32m    845\u001b[0m     \u001b[39m#  with _from_sequence.  NB we are assuming here that _from_sequence\u001b[39;00m\n\u001b[1;32m    846\u001b[0m     \u001b[39m#  is sufficiently strict that it casts appropriately.\u001b[39;00m\n\u001b[1;32m    847\u001b[0m     preserve_dtype \u001b[39m=\u001b[39m \u001b[39mTrue\u001b[39;00m\n\u001b[0;32m--> 849\u001b[0m result \u001b[39m=\u001b[39m \u001b[39mself\u001b[39;49m\u001b[39m.\u001b[39;49m_aggregate_series_pure_python(obj, func)\n\u001b[1;32m    851\u001b[0m \u001b[39mif\u001b[39;00m \u001b[39mlen\u001b[39m(obj) \u001b[39m==\u001b[39m \u001b[39m0\u001b[39m \u001b[39mand\u001b[39;00m \u001b[39mlen\u001b[39m(result) \u001b[39m==\u001b[39m \u001b[39m0\u001b[39m \u001b[39mand\u001b[39;00m \u001b[39misinstance\u001b[39m(obj\u001b[39m.\u001b[39mdtype, ExtensionDtype):\n\u001b[1;32m    852\u001b[0m     \u001b[39mcls\u001b[39m \u001b[39m=\u001b[39m obj\u001b[39m.\u001b[39mdtype\u001b[39m.\u001b[39mconstruct_array_type()\n",
      "File \u001b[0;32m~/Desktop/algo-trading/v11-learning-backtestingpy/venv/lib/python3.10/site-packages/pandas/core/groupby/ops.py:877\u001b[0m, in \u001b[0;36mBaseGrouper._aggregate_series_pure_python\u001b[0;34m(self, obj, func)\u001b[0m\n\u001b[1;32m    874\u001b[0m splitter \u001b[39m=\u001b[39m \u001b[39mself\u001b[39m\u001b[39m.\u001b[39m_get_splitter(obj, axis\u001b[39m=\u001b[39m\u001b[39m0\u001b[39m)\n\u001b[1;32m    876\u001b[0m \u001b[39mfor\u001b[39;00m i, group \u001b[39min\u001b[39;00m \u001b[39menumerate\u001b[39m(splitter):\n\u001b[0;32m--> 877\u001b[0m     res \u001b[39m=\u001b[39m func(group)\n\u001b[1;32m    878\u001b[0m     res \u001b[39m=\u001b[39m extract_result(res)\n\u001b[1;32m    880\u001b[0m     \u001b[39mif\u001b[39;00m \u001b[39mnot\u001b[39;00m initialized:\n\u001b[1;32m    881\u001b[0m         \u001b[39m# We only do this validation on the first iteration\u001b[39;00m\n",
      "File \u001b[0;32m~/Desktop/algo-trading/v11-learning-backtestingpy/venv/lib/python3.10/site-packages/pandas/core/groupby/generic.py:322\u001b[0m, in \u001b[0;36mSeriesGroupBy._python_agg_general.<locals>.<lambda>\u001b[0;34m(x)\u001b[0m\n\u001b[1;32m    320\u001b[0m     alias \u001b[39m=\u001b[39m com\u001b[39m.\u001b[39m_builtin_table_alias[func]\n\u001b[1;32m    321\u001b[0m     warn_alias_replacement(\u001b[39mself\u001b[39m, orig_func, alias)\n\u001b[0;32m--> 322\u001b[0m f \u001b[39m=\u001b[39m \u001b[39mlambda\u001b[39;00m x: func(x, \u001b[39m*\u001b[39;49margs, \u001b[39m*\u001b[39;49m\u001b[39m*\u001b[39;49mkwargs)\n\u001b[1;32m    324\u001b[0m obj \u001b[39m=\u001b[39m \u001b[39mself\u001b[39m\u001b[39m.\u001b[39m_obj_with_exclusions\n\u001b[1;32m    325\u001b[0m result \u001b[39m=\u001b[39m \u001b[39mself\u001b[39m\u001b[39m.\u001b[39mgrouper\u001b[39m.\u001b[39magg_series(obj, f)\n",
      "File \u001b[0;32m~/Desktop/algo-trading/v11-learning-backtestingpy/venv/lib/python3.10/site-packages/backtesting/_plotting.py:148\u001b[0m, in \u001b[0;36m_maybe_resample_data.<locals>._group_trades.<locals>.f\u001b[0;34m(s, new_index, bars)\u001b[0m\n\u001b[1;32m    145\u001b[0m \u001b[39mif\u001b[39;00m s\u001b[39m.\u001b[39msize:\n\u001b[1;32m    146\u001b[0m     \u001b[39m# Via int64 because on pandas recently broken datetime\u001b[39;00m\n\u001b[1;32m    147\u001b[0m     mean_time \u001b[39m=\u001b[39m \u001b[39mint\u001b[39m(bars\u001b[39m.\u001b[39mloc[s\u001b[39m.\u001b[39mindex]\u001b[39m.\u001b[39mview(\u001b[39mint\u001b[39m)\u001b[39m.\u001b[39mmean())\n\u001b[0;32m--> 148\u001b[0m     new_bar_idx \u001b[39m=\u001b[39m new_index\u001b[39m.\u001b[39;49mget_loc(mean_time, method\u001b[39m=\u001b[39;49m\u001b[39m'\u001b[39;49m\u001b[39mnearest\u001b[39;49m\u001b[39m'\u001b[39;49m)\n\u001b[1;32m    149\u001b[0m     \u001b[39mreturn\u001b[39;00m new_bar_idx\n",
      "\u001b[0;31mTypeError\u001b[0m: Index.get_loc() got an unexpected keyword argument 'method'"
     ]
    }
   ],
   "source": [
    "bt.plot(plot_volume=False, plot_pl=False)"
   ]
  }
 ],
 "metadata": {
  "kernelspec": {
   "display_name": "venv",
   "language": "python",
   "name": "python3"
  },
  "language_info": {
   "codemirror_mode": {
    "name": "ipython",
    "version": 3
   },
   "file_extension": ".py",
   "mimetype": "text/x-python",
   "name": "python",
   "nbconvert_exporter": "python",
   "pygments_lexer": "ipython3",
   "version": "3.10.13"
  }
 },
 "nbformat": 4,
 "nbformat_minor": 2
}
